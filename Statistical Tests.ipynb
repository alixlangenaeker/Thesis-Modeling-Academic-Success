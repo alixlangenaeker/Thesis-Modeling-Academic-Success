{
 "cells": [
  {
   "cell_type": "markdown",
   "id": "50fc619d",
   "metadata": {},
   "source": [
    "# Research Question I"
   ]
  },
  {
   "cell_type": "markdown",
   "id": "141fb43a",
   "metadata": {},
   "source": [
    "### Analysis F1-score\n",
    "\n",
    "For each course a similar anaysis is conducted, looking into the performance (considering the F1-score) of the models dividing by three different Machine Learning techniques implemented, and the three different Feature Selections made. The analysis is conducted by three pairwise Wilcoxon Tests, and an all-including Friedman Test at the end. In case of signficance found by the Fiedman test, a post-hoc Nemenyi Test is being conducted. The example for Hogere Wiskunde I is provided below."
   ]
  },
  {
   "cell_type": "markdown",
   "id": "b6226879",
   "metadata": {},
   "source": [
    "* HOGERE WISKUNDE I"
   ]
  },
  {
   "cell_type": "markdown",
   "id": "eb9b26a8",
   "metadata": {},
   "source": [
    "Machine Learning techniques comparison"
   ]
  },
  {
   "cell_type": "code",
   "execution_count": 1,
   "id": "884f785d",
   "metadata": {},
   "outputs": [
    {
     "name": "stdout",
     "output_type": "stream",
     "text": [
      "Wilcoxon test between Logistic Regression and Random Forest: 0.25\n",
      "No significant difference between Logistic Regression and Random Forest.\n",
      "Wilcoxon test between Random Forest and XGBoost: 0.5\n",
      "No significant difference between Random Forest and XGBoost.\n",
      "Wilcoxon test between Logistic Regression and XGBoost: 0.25\n",
      "No significant difference between Logistic Regression and XGBoost.\n",
      "Friedman test: 0.09697196786440515\n",
      "There is no significant difference in overall performance across the three models.\n"
     ]
    }
   ],
   "source": [
    "from scipy.stats import wilcoxon, friedmanchisquare\n",
    "\n",
    "# Example data\n",
    "F1_Logistic = [0.5614, 5733, 0.5366]\n",
    "F1_RandomForest = [0.4864, 0.4625, 0.4504]\n",
    "F1_XGBoost = [0.4380, 0.5329, 0.5239]\n",
    "\n",
    "# Checking if F1 scores for Logistic Regression and Random Forest are identical\n",
    "if F1_Logistic == F1_RandomForest:\n",
    "    print('No significant difference between Logistic Regression and Random Forest (Wilcoxon test not applicable).')\n",
    "else:\n",
    "    # Wilcoxon Test\n",
    "    stat, p = wilcoxon(F1_Logistic, F1_RandomForest)\n",
    "    print('Wilcoxon test between Logistic Regression and Random Forest:', p)\n",
    "    if p < 0.05:\n",
    "        print('Significant difference between Logistic Regression and Random Forest.')\n",
    "    else:\n",
    "        print('No significant difference between Logistic Regression and Random Forest.')\n",
    "\n",
    "# Checking if F1 scores for Random Forest and XGBoost are identical\n",
    "if F1_RandomForest == F1_XGBoost:\n",
    "    print('No significant difference between Random Forest and XGBoost (Wilcoxon test not applicable).')\n",
    "else:\n",
    "    stat, p = wilcoxon(F1_RandomForest, F1_XGBoost)\n",
    "    print('Wilcoxon test between Random Forest and XGBoost:', p)\n",
    "    if p < 0.05:\n",
    "        print('Significant difference between Random Forest and XGBoost.')\n",
    "    else:\n",
    "        print('No significant difference between Random Forest and XGBoost.')\n",
    "\n",
    "# Checking if F1 scores for Logistic Regression and XGBoost are identical\n",
    "if F1_Logistic == F1_XGBoost:\n",
    "    print('No significant difference between Logistic Regression and XGBoost (Wilcoxon test not applicable).')\n",
    "else:\n",
    "    stat, p = wilcoxon(F1_Logistic, F1_XGBoost)\n",
    "    print('Wilcoxon test between Logistic Regression and XGBoost:', p)\n",
    "    if p < 0.05:\n",
    "        print('Significant difference between Logistic Regression and XGBoost.')\n",
    "    else:\n",
    "        print('No significant difference between Logistic Regression and XGBoost.')\n",
    "        \n",
    "# Friedman Test\n",
    "stat, p = friedmanchisquare(F1_Logistic, F1_RandomForest, F1_XGBoost)\n",
    "print('Friedman test:', p)\n",
    "if p < 0.05:\n",
    "    print('There is a significant difference in overall performance across the three models.')\n",
    "    \n",
    "    # Nemenyi post-hoc test\n",
    "    posthoc = sp.posthoc_nemenyi_friedman([F1_Logistic, F1_RandomForest, F1_XGBoost])\n",
    "    print(posthoc)\n",
    "    \n",
    "else:\n",
    "    print('There is no significant difference in overall performance across the three models.')"
   ]
  },
  {
   "cell_type": "markdown",
   "id": "c301d76a",
   "metadata": {},
   "source": [
    "Feature Selections comparison"
   ]
  },
  {
   "cell_type": "code",
   "execution_count": 2,
   "id": "0ef4a6e8",
   "metadata": {},
   "outputs": [
    {
     "name": "stdout",
     "output_type": "stream",
     "text": [
      "Wilcoxon test between Full Model and 0.30-0.40 bound feature selection:\n",
      "Test Statistic: 2.0\n",
      "p-value: 0.75\n",
      "No significant difference between Full Model and 0.30-0.40 bound feature selection.\n",
      "\n",
      "Wilcoxon test between 0.30-0.40 bound feature selection and 0.05-0.10 bound feature selection:\n",
      "Test Statistic: 0.0\n",
      "p-value: 0.25\n",
      "No significant difference between 0.30-0.40 bound feature selection and 0.05-0.10 bound feature selection.\n",
      "\n",
      "Wilcoxon test between Full Model and 0.05-0.10 bound feature selection:\n",
      "Test Statistic: 3.0\n",
      "p-value: 1.0\n",
      "No significant difference between Full Model and 0.05-0.10 bound feature selection.\n",
      "\n",
      "Friedman test:\n",
      "Test Statistic: 2.6666666666666643\n",
      "p-value: 0.26359713811572705\n",
      "There is no significant difference in overall performance across the three feature selection methods.\n"
     ]
    }
   ],
   "source": [
    "from scipy.stats import wilcoxon, friedmanchisquare\n",
    "\n",
    "# Data\n",
    "F1_FullModel = [0.5614, 0.4864, 0.4380]\n",
    "F1_30_40_bound = [0.5733, 0.4625, 0.5329]\n",
    "F1_5_10_bound = [0.5366, 0.4504, 0.5293]\n",
    "\n",
    "# Wilcoxon Test\n",
    "# Check if F1 scores for Full Model and 0.30-0.40 bound feature selection are identical\n",
    "if F1_FullModel == F1_30_40_bound:\n",
    "    print('No significant difference between Full Model and 0.30-0.40 bound feature selection (Wilcoxon test not applicable).')\n",
    "else:\n",
    "    # Wilcoxon Test\n",
    "    stat, p = wilcoxon(F1_FullModel, F1_30_40_bound)\n",
    "    print('Wilcoxon test between Full Model and 0.30-0.40 bound feature selection:')\n",
    "    print('Test Statistic:', stat)\n",
    "    print('p-value:', p)\n",
    "    if p < 0.05:\n",
    "        print('Significant difference between Full Model and 0.30-0.40 bound feature selection.')\n",
    "    else:\n",
    "        print('No significant difference between Full Model and 0.30-0.40 bound feature selection.')\n",
    "\n",
    "# Check if F1 scores for 0.30-0.40 bound feature selection and 0.05-0.10 bound feature selection are identical\n",
    "if F1_30_40_bound == F1_5_10_bound:\n",
    "    print('\\nNo significant difference between 0.30-0.40 bound feature selection and 0.05-0.10 bound feature selection (Wilcoxon test not applicable).')\n",
    "else:\n",
    "    stat, p = wilcoxon(F1_30_40_bound, F1_5_10_bound)\n",
    "    print('\\nWilcoxon test between 0.30-0.40 bound feature selection and 0.05-0.10 bound feature selection:')\n",
    "    print('Test Statistic:', stat)\n",
    "    print('p-value:', p)\n",
    "    if p < 0.05:\n",
    "        print('Significant difference between 0.30-0.40 bound feature selection and 0.05-0.10 bound feature selection.')\n",
    "    else:\n",
    "        print('No significant difference between 0.30-0.40 bound feature selection and 0.05-0.10 bound feature selection.')\n",
    "\n",
    "# Check if F1 scores for Full Model and 0.05-0.10 bound feature selection are identical\n",
    "if F1_FullModel == F1_5_10_bound:\n",
    "    print('\\nNo significant difference between Full Model and 0.05-0.10 bound feature selection (Wilcoxon test not applicable).')\n",
    "else:\n",
    "    stat, p = wilcoxon(F1_FullModel, F1_5_10_bound)\n",
    "    print('\\nWilcoxon test between Full Model and 0.05-0.10 bound feature selection:')\n",
    "    print('Test Statistic:', stat)\n",
    "    print('p-value:', p)\n",
    "    if p < 0.05:\n",
    "        print('Significant difference between Full Model and 0.05-0.10 bound feature selection.')\n",
    "    else:\n",
    "        print('No significant difference between Full Model and 0.05-0.10 bound feature selection.')\n",
    "\n",
    "# Friedman Test\n",
    "stat, p = friedmanchisquare(F1_FullModel, F1_30_40_bound, F1_5_10_bound)\n",
    "print('\\nFriedman test:')\n",
    "print('Test Statistic:', stat)\n",
    "print('p-value:', p)\n",
    "if p < 0.05:\n",
    "    print('There is a significant difference in overall performance across the three feature selection methods.')\n",
    "    \n",
    "    # Nemenyi post-hoc test\n",
    "    posthoc = sp.posthoc_nemenyi_friedman([F1_FullModel, F1_30_40_bound, F1_5_10_bound])\n",
    "    print(posthoc)\n",
    "    \n",
    "else:\n",
    "    print('There is no significant difference in overall performance across the three feature selection methods.')"
   ]
  },
  {
   "cell_type": "markdown",
   "id": "fb38f54a",
   "metadata": {},
   "source": [
    "### Analysis Specificity metric\n",
    "\n",
    "For each course a similar anaysis is conducted, looking into the performance (considering the Specificity metric) of the models dividing by three different Machine Learning techniques implemented, and the three different Feature Selections made. The analysis is conducted by three pairwise Wilcoxon Tests, and an all-including Friedman Test at the end. In case of signficance found by the Fiedman test, a post-hoc Nemenyi Test is being conducted. The example for Hogere Wiskunde I is provided below."
   ]
  },
  {
   "cell_type": "markdown",
   "id": "08df592a",
   "metadata": {},
   "source": [
    "* HOGERE WISKUNDE I"
   ]
  },
  {
   "cell_type": "markdown",
   "id": "29ba1628",
   "metadata": {},
   "source": [
    "Machine Learning techniques comparison"
   ]
  },
  {
   "cell_type": "code",
   "execution_count": 3,
   "id": "64830db8",
   "metadata": {},
   "outputs": [
    {
     "name": "stdout",
     "output_type": "stream",
     "text": [
      "Wilcoxon test between Logistic Regression and Random Forest: 0.25\n",
      "No significant difference between Logistic Regression and Random Forest.\n",
      "Wilcoxon test between Random Forest and XGBoost: 0.25\n",
      "No significant difference between Random Forest and XGBoost.\n",
      "Wilcoxon test between Logistic Regression and XGBoost: 0.17971249487899976\n",
      "No significant difference between Logistic Regression and XGBoost.\n",
      "Friedman test: 0.05971441573218535\n",
      "There is no significant difference in overall performance across the three models.\n"
     ]
    },
    {
     "name": "stderr",
     "output_type": "stream",
     "text": [
      "/Users/alixlangenaeker/anaconda3/lib/python3.11/site-packages/scipy/stats/_morestats.py:4088: UserWarning: Exact p-value calculation does not work if there are zeros. Switching to normal approximation.\n",
      "  warnings.warn(\"Exact p-value calculation does not work if there are \"\n",
      "/Users/alixlangenaeker/anaconda3/lib/python3.11/site-packages/scipy/stats/_morestats.py:4102: UserWarning: Sample size too small for normal approximation.\n",
      "  warnings.warn(\"Sample size too small for normal approximation.\")\n"
     ]
    }
   ],
   "source": [
    "from scipy.stats import wilcoxon, friedmanchisquare\n",
    "\n",
    "# Example data\n",
    "Spec_Logistic = [0.8000, 0.6333, 0.5333]\n",
    "Spec_RandomForest = [0.9333, 0.8667, 0.8333]\n",
    "Spec_XGBoost = [0.8000, 0.8000, 0.7333]\n",
    "\n",
    "# Wilcoxon Test\n",
    "# Check if Specificity scores for Logistic Regression and Random Forest are identical\n",
    "if Spec_Logistic == Spec_RandomForest:\n",
    "    print('No significant difference between Logistic Regression and Random Forest (Wilcoxon test not applicable).')\n",
    "else:\n",
    "    # Wilcoxon Test\n",
    "    stat, p = wilcoxon(Spec_Logistic, Spec_RandomForest)\n",
    "    print('Wilcoxon test between Logistic Regression and Random Forest:', p)\n",
    "    if p < 0.05:\n",
    "        print('Significant difference between Logistic Regression and Random Forest.')\n",
    "    else:\n",
    "        print('No significant difference between Logistic Regression and Random Forest.')\n",
    "\n",
    "# Check if Specificty scores for Random Forest and XGBoost are identical\n",
    "if Spec_RandomForest == Spec_XGBoost:\n",
    "    print('No significant difference between Random Forest and XGBoost (Wilcoxon test not applicable).')\n",
    "else:\n",
    "    stat, p = wilcoxon(Spec_RandomForest, Spec_XGBoost)\n",
    "    print('Wilcoxon test between Random Forest and XGBoost:', p)\n",
    "    if p < 0.05:\n",
    "        print('Significant difference between Random Forest and XGBoost.')\n",
    "    else:\n",
    "        print('No significant difference between Random Forest and XGBoost.')\n",
    "\n",
    "# Check if Specificity scores for Logistic Regression and XGBoost are identical\n",
    "if Spec_Logistic == Spec_XGBoost:\n",
    "    print('No significant difference between Logistic Regression and XGBoost (Wilcoxon test not applicable).')\n",
    "else:\n",
    "    stat, p = wilcoxon(Spec_Logistic, Spec_XGBoost)\n",
    "    print('Wilcoxon test between Logistic Regression and XGBoost:', p)\n",
    "    if p < 0.05:\n",
    "        print('Significant difference between Logistic Regression and XGBoost.')\n",
    "    else:\n",
    "        print('No significant difference between Logistic Regression and XGBoost.')\n",
    "\n",
    "# Friedman Test\n",
    "stat, p = friedmanchisquare(Spec_Logistic, Spec_RandomForest, Spec_XGBoost)\n",
    "print('Friedman test:', p)\n",
    "if p < 0.05:\n",
    "    print('There is a significant difference in overall performance across the three models.')\n",
    "\n",
    "    # Nemenyi post-hoc test\n",
    "    posthoc = sp.posthoc_nemenyi_friedman([Spec_Logistic, Spec_RandomForest, Spec_XGBoost])\n",
    "    print(posthoc)\n",
    "    \n",
    "else:\n",
    "    print('There is no significant difference in overall performance across the three models.')"
   ]
  },
  {
   "cell_type": "markdown",
   "id": "1f56755a",
   "metadata": {},
   "source": [
    "Feature Selections comparison"
   ]
  },
  {
   "cell_type": "code",
   "execution_count": 4,
   "id": "91cc3714",
   "metadata": {},
   "outputs": [
    {
     "name": "stdout",
     "output_type": "stream",
     "text": [
      "Wilcoxon test between Full Model and 0.30-0.40 bound feature selection:\n",
      "Test Statistic: 0.0\n",
      "p-value: 0.17971249487899976\n",
      "No significant difference between Full Model and 0.30-0.40 bound feature selection.\n",
      "\n",
      "Wilcoxon test between 0.30-0.40 bound feature selection and 0.05-0.10 bound feature selection:\n",
      "Test Statistic: 0.0\n",
      "p-value: 0.25\n",
      "No significant difference between 0.30-0.40 bound feature selection and 0.05-0.10 bound feature selection.\n",
      "\n",
      "Wilcoxon test between Full Model and 0.05-0.10 bound feature selection:\n",
      "Test Statistic: 0.0\n",
      "p-value: 0.25\n",
      "No significant difference between Full Model and 0.05-0.10 bound feature selection.\n",
      "\n",
      "Friedman test:\n",
      "Test Statistic: 5.636363636363634\n",
      "p-value: 0.05971441573218535\n",
      "There is no significant difference in overall performance across the three feature selection methods.\n"
     ]
    }
   ],
   "source": [
    "from scipy.stats import wilcoxon, friedmanchisquare\n",
    "\n",
    "# Data\n",
    "Spec_FullModel = [0.8000, 0.9333, 0.8000]\n",
    "Spec_30_40_bound = [0.6333, 0.8667, 0.8000]\n",
    "Spec_5_10_bound = [0.5333, 0.8333, 0.7333]\n",
    "\n",
    "# Wilcoxon Test\n",
    "# Check if Specificity scores for Full Model and 0.30-0.40 bound feature selection are identical\n",
    "if Spec_FullModel == Spec_30_40_bound:\n",
    "    print('No significant difference between Full Model and 0.30-0.40 bound feature selection (Wilcoxon test not applicable).')\n",
    "else:\n",
    "    # Wilcoxon Test\n",
    "    stat, p = wilcoxon(Spec_FullModel, Spec_30_40_bound)\n",
    "    print('Wilcoxon test between Full Model and 0.30-0.40 bound feature selection:')\n",
    "    print('Test Statistic:', stat)\n",
    "    print('p-value:', p)\n",
    "    if p < 0.05:\n",
    "        print('Significant difference between Full Model and 0.30-0.40 bound feature selection.')\n",
    "    else:\n",
    "        print('No significant difference between Full Model and 0.30-0.40 bound feature selection.')\n",
    "\n",
    "# Check if Specificity scores for 0.30-0.40 bound feature selection and 0.05-0.10 bound feature selection are identical\n",
    "if Spec_30_40_bound == Spec_5_10_bound:\n",
    "    print('\\nNo significant difference between 0.30-0.40 bound feature selection and 0.05-0.10 bound feature selection (Wilcoxon test not applicable).')\n",
    "else:\n",
    "    stat, p = wilcoxon(Spec_30_40_bound, Spec_5_10_bound)\n",
    "    print('\\nWilcoxon test between 0.30-0.40 bound feature selection and 0.05-0.10 bound feature selection:')\n",
    "    print('Test Statistic:', stat)\n",
    "    print('p-value:', p)\n",
    "    if p < 0.05:\n",
    "        print('Significant difference between 0.30-0.40 bound feature selection and 0.05-0.10 bound feature selection.')\n",
    "    else:\n",
    "        print('No significant difference between 0.30-0.40 bound feature selection and 0.05-0.10 bound feature selection.')\n",
    "\n",
    "# Check if Specificity scores for Full Model and 0.05-0.10 bound feature selection are identical\n",
    "if Spec_FullModel == Spec_5_10_bound:\n",
    "    print('\\nNo significant difference between Full Model and 0.05-0.10 bound feature selection (Wilcoxon test not applicable).')\n",
    "else:\n",
    "    stat, p = wilcoxon(Spec_FullModel, Spec_5_10_bound)\n",
    "    print('\\nWilcoxon test between Full Model and 0.05-0.10 bound feature selection:')\n",
    "    print('Test Statistic:', stat)\n",
    "    print('p-value:', p)\n",
    "    if p < 0.05:\n",
    "        print('Significant difference between Full Model and 0.05-0.10 bound feature selection.')\n",
    "    else:\n",
    "        print('No significant difference between Full Model and 0.05-0.10 bound feature selection.')\n",
    "\n",
    "\n",
    "# Friedman Test\n",
    "stat, p = friedmanchisquare(Spec_FullModel, Spec_30_40_bound, Spec_5_10_bound)\n",
    "print('\\nFriedman test:')\n",
    "print('Test Statistic:', stat)\n",
    "print('p-value:', p)\n",
    "if p < 0.05:\n",
    "    print('There is a significant difference in overall performance across the three feature selection methods.')\n",
    "    \n",
    "    # Nemenyi post-hoc test\n",
    "    posthoc = sp.posthoc_nemenyi_friedman([Spec_FullModel, Spec_30_40_bound, Spec_5_10_bound])\n",
    "    print(posthoc)\n",
    "    \n",
    "else:\n",
    "    print('There is no significant difference in overall performance across the three feature selection methods.')"
   ]
  },
  {
   "cell_type": "markdown",
   "id": "447abdb7",
   "metadata": {},
   "source": [
    "### Analysis Specificity VS F1-score\n",
    "\n",
    "For each course a comparison has been made between the results the Specificity and F1-score metrics show, to look whether a significant difference can be found between the models' abilities to identify negative cases and the overall performance. The example for Hogere Wiskunde II is provided below."
   ]
  },
  {
   "cell_type": "markdown",
   "id": "e3ce6580",
   "metadata": {},
   "source": [
    "* Hogere Wiskunde II"
   ]
  },
  {
   "cell_type": "code",
   "execution_count": 5,
   "id": "c51c24d0",
   "metadata": {},
   "outputs": [
    {
     "name": "stdout",
     "output_type": "stream",
     "text": [
      "Wilcoxon test between specificity and F1-score:\n",
      "Test Statistic: 0.0\n",
      "p-value: 0.00390625\n",
      "Significant difference between specificity and F1-score.\n"
     ]
    }
   ],
   "source": [
    "from scipy.stats import wilcoxon\n",
    "\n",
    "# Data\n",
    "specificity_HW2 = [0.7647, 1, 0.8529, 0.7941, 0.9412, 0.8824, 1, 0.8824, 0.8529]\n",
    "F1_HW2 = [0.6065, 0.6073, 0.6223, 0.5928, 0.6281, 0.6370, 0.6544, 0.5637, 0.5885]\n",
    "\n",
    "# Wilcoxon Test\n",
    "stat, p = wilcoxon(specificity_HW2, F1_HW2)\n",
    "print('Wilcoxon test between specificity and F1-score:')\n",
    "print('Test Statistic:', stat)\n",
    "print('p-value:', p)\n",
    "if p < 0.05:\n",
    "    print('Significant difference between specificity and F1-score.')\n",
    "else:\n",
    "    print('No significant difference between specificity and F1-score.')"
   ]
  },
  {
   "cell_type": "markdown",
   "id": "94a9e770",
   "metadata": {},
   "source": [
    "### Comparison across all courses"
   ]
  },
  {
   "cell_type": "markdown",
   "id": "d1473165",
   "metadata": {},
   "source": [
    "A comparison of the general performance across the nine different model setups for each course. This has been conducted seperately for the F1-score and Specificity metric results yielded for each model. A Nemenyi post-hoc analysis is conducted in case of significance found by the Friedman Test."
   ]
  },
  {
   "cell_type": "code",
   "execution_count": 6,
   "id": "05ca8439",
   "metadata": {},
   "outputs": [
    {
     "name": "stdout",
     "output_type": "stream",
     "text": [
      "Friedman test: 0.00021942741202355445\n",
      "There is a significant difference in overall performance across the nine courses, measured by the Specificity.\n",
      "          0         1         2         3         4         5         6  \\\n",
      "0  1.000000  0.003442  0.627810  0.900000  0.810602  0.900000  0.082893   \n",
      "1  0.003442  1.000000  0.523356  0.073607  0.327437  0.103887  0.900000   \n",
      "2  0.627810  0.523356  1.000000  0.900000  0.900000  0.900000  0.900000   \n",
      "3  0.900000  0.073607  0.900000  1.000000  0.900000  0.900000  0.523356   \n",
      "4  0.810602  0.327437  0.900000  0.900000  1.000000  0.900000  0.900000   \n",
      "5  0.900000  0.103887  0.900000  0.900000  0.900000  1.000000  0.601695   \n",
      "6  0.082893  0.900000  0.900000  0.523356  0.900000  0.601695  1.000000   \n",
      "7  0.082893  0.900000  0.900000  0.523356  0.900000  0.601695  0.900000   \n",
      "8  0.128820  0.900000  0.900000  0.627810  0.900000  0.706148  0.900000   \n",
      "\n",
      "          7         8  \n",
      "0  0.082893  0.128820  \n",
      "1  0.900000  0.900000  \n",
      "2  0.900000  0.900000  \n",
      "3  0.523356  0.627810  \n",
      "4  0.900000  0.900000  \n",
      "5  0.601695  0.706148  \n",
      "6  0.900000  0.900000  \n",
      "7  1.000000  0.900000  \n",
      "8  0.900000  1.000000  \n",
      "Friedman test: 4.4526819246985814e-07\n",
      "There is a significant difference in overall performance across the nine courses, measured by the F1-score.\n",
      "          0    1    2         3         4         5    6    7    8\n",
      "0  1.000000  0.9  0.9  0.900000  0.900000  0.810602  0.9  0.9  0.9\n",
      "1  0.900000  1.0  0.9  0.900000  0.900000  0.900000  0.9  0.9  0.9\n",
      "2  0.900000  0.9  1.0  0.900000  0.900000  0.900000  0.9  0.9  0.9\n",
      "3  0.900000  0.9  0.9  1.000000  0.900000  0.732262  0.9  0.9  0.9\n",
      "4  0.900000  0.9  0.9  0.900000  1.000000  0.888939  0.9  0.9  0.9\n",
      "5  0.810602  0.9  0.9  0.732262  0.888939  1.000000  0.9  0.9  0.9\n",
      "6  0.900000  0.9  0.9  0.900000  0.900000  0.900000  1.0  0.9  0.9\n",
      "7  0.900000  0.9  0.9  0.900000  0.900000  0.900000  0.9  1.0  0.9\n",
      "8  0.900000  0.9  0.9  0.900000  0.900000  0.900000  0.9  0.9  1.0\n"
     ]
    }
   ],
   "source": [
    "from scipy.stats import friedmanchisquare\n",
    "import scikit_posthocs as sp\n",
    "\n",
    "specificity_HW1 = [0.8, 0.9333, 0.8, 0.6333, 0.8667, 0.8, 0.5333, 0.8333, 0.7333]\n",
    "F1_HW1 = [0.5614, 0.4864, 0.4380, 0.5733, 0.4625, 0.5329, 0.5366, 0.4504, 0.5293]\n",
    "\n",
    "specificity_HW2 = [0.7647, 1, 0.8529, 0.7941, 0.9412, 0.8824, 1, 0.8824, 0.8529]\n",
    "F1_HW2 = [0.6065, 0.6073, 0.6223, 0.5928, 0.6281, 0.6370, 0.6544, 0.5637, 0.5885]\n",
    "\n",
    "specificity_recht = [0.75, 1, 0.8, 0.9, 0.9, 0.8, 0.95, 0.95, 0.95]\n",
    "F1_recht = [0.5556, 0.2540, 0.5275, 0.5105, 0.3393, 0.4548, 0.5513, 0.6456, 0.7308]\n",
    "\n",
    "specificity_BI = [0.0667, 1, 1, 0.0667, 0.9333, 0.8667, 1, 1, 1]\n",
    "F1_BI = [0.6208, 0.6670, 0.7091, 0.6208, 0.6058, 0.7123, 0.4184, 0.6229, 0.2557]\n",
    "\n",
    "specificity_acc = [0.7273, 0.9091, 0.7273, 0.7273, 0.5455, 0.2727, 0.7273, 0.8182, 1]\n",
    "F1_acc = [0.5963, 0.5896, 0.6853, 0.6147, 0.4256, 0.6204, 0.7521, 0.7541, 0.7554]\n",
    "\n",
    "specificity_mark = [0.4545, 0.3636, 0.3636, 0.8182, 0.2727, 0.2727, 0.8182, 0.7273, 0.7273]\n",
    "F1_mark = [0.4929, 0.5317, 0.6181, 0.2158, 0.5296, 0.5467, 0.1817, 0.4062, 0.4550]\n",
    "\n",
    "specificity_MP = [0, 0.96, 0.84, 0.76, 0.72, 0.68, 0.76, 0.64, 0.52]\n",
    "F1_MP = [0.3462, 0.5970, 0.6434, 0.6298, 0.6326, 0.6538, 0.6298, 0.6538, 0.5757]\n",
    "\n",
    "specificity_glob = [0.1667, 0.8333, 0.6667, 0.1250, 0.6250, 0.6250, 1, 1, 0.9167]\n",
    "F1_glob = [0.4812, 0.4991, 0.4857, 0.4318, 0.5385, 0.5608, 0.3333, 0.3780, 0.3950]\n",
    "\n",
    "specificity_bafi = [0.2, 0.6, 0.5, 0.3, 0.5, 0.7, 0.5, 0.5, 0.8]\n",
    "F1_bafi = [0.7595, 0.8367, 0.7304, 0.7599, 0.7794, 0.7560, 0.8127, 0.7630, 0.8284]\n",
    "\n",
    "# Friedman Test - Specificity\n",
    "stat, p = friedmanchisquare(specificity_HW1, specificity_HW2, specificity_recht, specificity_BI, specificity_acc, specificity_mark, specificity_MP, specificity_glob, specificity_bafi)\n",
    "print('Friedman test:', p)\n",
    "if p < 0.05:\n",
    "    print('There is a significant difference in overall performance across the nine courses, measured by the Specificity.')\n",
    "    \n",
    "    # Nemenyi post-hoc test\n",
    "    posthoc = sp.posthoc_nemenyi_friedman([specificity_HW1, specificity_HW2, specificity_recht, specificity_BI, specificity_acc, specificity_mark, specificity_MP, specificity_glob, specificity_bafi])\n",
    "    print(posthoc)\n",
    "    \n",
    "else:\n",
    "    print('There is no significant difference in overall performance across the nine courses, measured by the Specificity.')\n",
    "\n",
    "# Friedman Test - F1-score\n",
    "stat, p = friedmanchisquare(F1_HW1, F1_HW2, F1_recht, F1_BI, F1_acc, F1_mark, F1_MP, F1_glob, F1_bafi)\n",
    "print('Friedman test:', p)\n",
    "if p < 0.05:\n",
    "    print('There is a significant difference in overall performance across the nine courses, measured by the F1-score.')\n",
    "    \n",
    "    # Nemenyi post-hoc test\n",
    "    posthoc = sp.posthoc_nemenyi_friedman([F1_HW1, F1_HW2, F1_recht, F1_BI, F1_acc, F1_mark, F1_MP, F1_glob, F1_bafi])\n",
    "    print(posthoc)\n",
    "    \n",
    "else:\n",
    "    print('There is no significant difference in overall performance across the nine courses, measured by the F1-score.')"
   ]
  },
  {
   "cell_type": "markdown",
   "id": "46316375",
   "metadata": {},
   "source": [
    "### Early Warning Potential"
   ]
  },
  {
   "cell_type": "markdown",
   "id": "35d76a49",
   "metadata": {},
   "source": [
    "Comparing the general performance of the Logistic Regression models at three points in time (prediction made on log data up until the moment trial exams are being held (sem 1) / after the spring break (sem 2), prediction made the day of the last lecture, prediction made on data up until the day of the final exam)"
   ]
  },
  {
   "cell_type": "markdown",
   "id": "4a394885",
   "metadata": {},
   "source": [
    "In this comparison analysis all courses are included"
   ]
  },
  {
   "cell_type": "code",
   "execution_count": 7,
   "id": "8a3a87db",
   "metadata": {},
   "outputs": [
    {
     "name": "stdout",
     "output_type": "stream",
     "text": [
      "Wilcoxon test between Full Semester and Trial Exam:\n",
      "Test Statistic: 7.0\n",
      "p-value: 0.12348527214454898\n",
      "No significant difference between Full Semester and Trial Exam.\n",
      "Wilcoxon test between Full Semester and Last Lecture:\n",
      "Test Statistic: 21.0\n",
      "p-value: 0.91015625\n",
      "No significant difference between Full Semester and Last Lecture.\n",
      "Wilcoxon test between Last Lecture and Trial Exam:\n",
      "Test Statistic: 12.0\n",
      "p-value: 0.25\n",
      "No significant difference between Last Lecture and Trial Exam.\n"
     ]
    },
    {
     "name": "stderr",
     "output_type": "stream",
     "text": [
      "/Users/alixlangenaeker/anaconda3/lib/python3.11/site-packages/scipy/stats/_morestats.py:4088: UserWarning: Exact p-value calculation does not work if there are zeros. Switching to normal approximation.\n",
      "  warnings.warn(\"Exact p-value calculation does not work if there are \"\n",
      "/Users/alixlangenaeker/anaconda3/lib/python3.11/site-packages/scipy/stats/_morestats.py:4102: UserWarning: Sample size too small for normal approximation.\n",
      "  warnings.warn(\"Sample size too small for normal approximation.\")\n"
     ]
    }
   ],
   "source": [
    "from scipy.stats import wilcoxon\n",
    "\n",
    "# Data\n",
    "Full = [0.5733, 0.5928, 0.5105, 0.6208, 0.6147, 0.2158, 0.6298, 0.4318, 0.7599]\n",
    "TrialExam = [0.5950, 0.6695, 0.5480, 0.5361, 0.6459, 0.6840, 0.6868, 0.4318, 0.7912]\n",
    "LastLecture = [0.5746, 0.5081, 0.4200, 0.5765, 0.7971, 0.5798, 0.7116, 0.3823, 0.5423]\n",
    "\n",
    "# Wilcoxon Test 1\n",
    "stat, p = wilcoxon(Full, TrialExam)\n",
    "print('Wilcoxon test between Full Semester and Trial Exam:')\n",
    "print('Test Statistic:', stat)\n",
    "print('p-value:', p)\n",
    "if p < 0.05:\n",
    "    print('Significant difference between Full Semester and Trial Exam.')\n",
    "else:\n",
    "    print('No significant difference between Full Semester and Trial Exam.')\n",
    "    \n",
    "    # Wilcoxon Test 2\n",
    "stat, p = wilcoxon(Full, LastLecture)\n",
    "print('Wilcoxon test between Full Semester and Last Lecture:')\n",
    "print('Test Statistic:', stat)\n",
    "print('p-value:', p)\n",
    "if p < 0.05:\n",
    "    print('Significant difference between Full Semester and Last Lecture.')\n",
    "else:\n",
    "    print('No significant difference between Full Semester and Last Lecture.')\n",
    "\n",
    "# Wilcoxon Test 3\n",
    "stat, p = wilcoxon(LastLecture, TrialExam)\n",
    "print('Wilcoxon test between Last Lecture and Trial Exam:')\n",
    "print('Test Statistic:', stat)\n",
    "print('p-value:', p)\n",
    "if p < 0.05:\n",
    "    print('Significant difference between Last Lecture and Trial Exam.')\n",
    "else:\n",
    "    print('No significant difference between Last Lecture and Trial Exam.')"
   ]
  },
  {
   "cell_type": "markdown",
   "id": "39d4fe3c",
   "metadata": {},
   "source": [
    "A similar comparison is being conducted, only including semester 1 courses\n",
    "* Hogere Wiskunde I\n",
    "* Grondslagen van de Beleidsinformatica\n",
    "* Accountancy\n",
    "* Markten en Prijzen"
   ]
  },
  {
   "cell_type": "code",
   "execution_count": 8,
   "id": "31f84057",
   "metadata": {},
   "outputs": [
    {
     "name": "stdout",
     "output_type": "stream",
     "text": [
      "Wilcoxon test between Full Semester and Trial Exam:\n",
      "Test Statistic: 4.0\n",
      "p-value: 0.875\n",
      "No significant difference between Full Semester and Trial Exam.\n",
      "Wilcoxon test between Full Semester and Last Lecture:\n",
      "Test Statistic: 2.0\n",
      "p-value: 0.375\n",
      "No significant difference between Full Semester and Last Lecture.\n",
      "Wilcoxon test between Last Lecture and Trial Exam:\n",
      "Test Statistic: 1.0\n",
      "p-value: 0.25\n",
      "No significant difference between Last Lecture and Trial Exam.\n"
     ]
    }
   ],
   "source": [
    "from scipy.stats import wilcoxon\n",
    "\n",
    "# Data\n",
    "Full = [0.5733, 0.6208, 0.6147, 0.6298]\n",
    "TrialExam = [0.5950, 0.5361, 0.6459, 0.6868]\n",
    "LastLecture = [0.5746, 0.5765, 0.7971, 0.7116]\n",
    "\n",
    "# Wilcoxon Test 1\n",
    "stat, p = wilcoxon(Full, TrialExam)\n",
    "print('Wilcoxon test between Full Semester and Trial Exam:')\n",
    "print('Test Statistic:', stat)\n",
    "print('p-value:', p)\n",
    "if p < 0.05:\n",
    "    print('Significant difference between Full Semester and Trial Exam.')\n",
    "else:\n",
    "    print('No significant difference between Full Semester and Trial Exam.')\n",
    "    \n",
    "    # Wilcoxon Test 2\n",
    "stat, p = wilcoxon(Full, LastLecture)\n",
    "print('Wilcoxon test between Full Semester and Last Lecture:')\n",
    "print('Test Statistic:', stat)\n",
    "print('p-value:', p)\n",
    "if p < 0.05:\n",
    "    print('Significant difference between Full Semester and Last Lecture.')\n",
    "else:\n",
    "    print('No significant difference between Full Semester and Last Lecture.')\n",
    "\n",
    "# Wilcoxon Test 3\n",
    "stat, p = wilcoxon(LastLecture, TrialExam)\n",
    "print('Wilcoxon test between Last Lecture and Trial Exam:')\n",
    "print('Test Statistic:', stat)\n",
    "print('p-value:', p)\n",
    "if p < 0.05:\n",
    "    print('Significant difference between Last Lecture and Trial Exam.')\n",
    "else:\n",
    "    print('No significant difference between Last Lecture and Trial Exam.')"
   ]
  },
  {
   "cell_type": "markdown",
   "id": "e0757b7c",
   "metadata": {},
   "source": [
    "Similarly, the comparison is made for the semester 2 courses only\n",
    "* Hogere Wiskunde II\n",
    "* Inleiding tot het Economisch Recht\n",
    "* Marketing\n",
    "* De Globale Economie\n",
    "* Bank en Financiewezen"
   ]
  },
  {
   "cell_type": "code",
   "execution_count": 9,
   "id": "1ad1e9b0",
   "metadata": {},
   "outputs": [
    {
     "name": "stdout",
     "output_type": "stream",
     "text": [
      "Wilcoxon test between Full Semester and Trial Exam:\n",
      "Test Statistic: 0.0\n",
      "p-value: 0.06788915486182899\n",
      "No significant difference between Full Semester and Trial Exam.\n",
      "Wilcoxon test between Full Semester and Last Lecture:\n",
      "Test Statistic: 5.0\n",
      "p-value: 0.625\n",
      "No significant difference between Full Semester and Last Lecture.\n",
      "Wilcoxon test between Last Lecture and Trial Exam:\n",
      "Test Statistic: 0.0\n",
      "p-value: 0.0625\n",
      "No significant difference between Last Lecture and Trial Exam.\n"
     ]
    }
   ],
   "source": [
    "from scipy.stats import wilcoxon\n",
    "\n",
    "# Data\n",
    "Full = [0.5928, 0.5105, 0.2158, 0.4318, 0.7599]\n",
    "TrialExam = [0.6695, 0.5480, 0.6840, 0.4318, 0.7912]\n",
    "LastLecture = [0.5081, 0.4200, 0.5798, 0.3823, 0.5423]\n",
    "\n",
    "# Wilcoxon Test 1\n",
    "stat, p = wilcoxon(Full, TrialExam)\n",
    "print('Wilcoxon test between Full Semester and Trial Exam:')\n",
    "print('Test Statistic:', stat)\n",
    "print('p-value:', p)\n",
    "if p < 0.05:\n",
    "    print('Significant difference between Full Semester and Trial Exam.')\n",
    "else:\n",
    "    print('No significant difference between Full Semester and Trial Exam.')\n",
    "    \n",
    "    # Wilcoxon Test 2\n",
    "stat, p = wilcoxon(Full, LastLecture)\n",
    "print('Wilcoxon test between Full Semester and Last Lecture:')\n",
    "print('Test Statistic:', stat)\n",
    "print('p-value:', p)\n",
    "if p < 0.05:\n",
    "    print('Significant difference between Full Semester and Last Lecture.')\n",
    "else:\n",
    "    print('No significant difference between Full Semester and Last Lecture.')\n",
    "\n",
    "# Wilcoxon Test 3\n",
    "stat, p = wilcoxon(LastLecture, TrialExam)\n",
    "print('Wilcoxon test between Last Lecture and Trial Exam:')\n",
    "print('Test Statistic:', stat)\n",
    "print('p-value:', p)\n",
    "if p < 0.05:\n",
    "    print('Significant difference between Last Lecture and Trial Exam.')\n",
    "else:\n",
    "    print('No significant difference between Last Lecture and Trial Exam.')"
   ]
  },
  {
   "cell_type": "markdown",
   "id": "b8b0ea66",
   "metadata": {},
   "source": [
    "Looking into the possibility that semester 1 and semester 2 of the course are organized differently, resulting in students dividing their active study time differently across the two semesters. Due to the different size of courses considered (semester 1 consisting of four courses, semester 2 of five), the Friedman and Wilcoxon Tests could not be conducted. Therefore, a Permutation Test was set up to compare the differences in performance for semester 1 and semester 2 courses at the three different points in time"
   ]
  },
  {
   "cell_type": "code",
   "execution_count": 10,
   "id": "8981086e",
   "metadata": {},
   "outputs": [
    {
     "name": "stdout",
     "output_type": "stream",
     "text": [
      "Permutation test for Full courses:\n",
      "Observed difference in means: -0.10749000000000009\n",
      "p-value: 0.68\n",
      "\n",
      "Permutation test for Trial exam courses:\n",
      "Observed difference in means: 0.008950000000000014\n",
      "p-value: 0.04\n",
      "\n",
      "Permutation test for Last lecture courses:\n",
      "Observed difference in means: -0.17862999999999996\n",
      "p-value: 0.94\n"
     ]
    }
   ],
   "source": [
    "import numpy as np\n",
    "from scipy.stats import ttest_rel\n",
    "\n",
    "# Data for Semester 1\n",
    "Sem1_Full = np.array([0.5733, 0.6208, 0.6147, 0.6298])\n",
    "Sem1_TrialExam = np.array([0.5950, 0.5361, 0.6459, 0.6868])\n",
    "Sem1_LastLecture = np.array([0.5746, 0.5765, 0.7971, 0.7116])\n",
    "\n",
    "# Data for Semester 2\n",
    "Sem2_Full = np.array([0.5928, 0.5105, 0.2158, 0.4318, 0.7599])\n",
    "Sem2_Trial_exam = np.array([0.6695, 0.5480, 0.6840, 0.4318, 0.7912])\n",
    "Sem2_LastLecture = np.array([0.5081, 0.4200, 0.5789, 0.3823, 0.5423])\n",
    "\n",
    "np.random.seed(42)\n",
    "\n",
    "# Calculating the difference in means observed\n",
    "obs_diff_Full = np.mean(Sem2_Full) - np.mean(Sem1_Full)\n",
    "obs_diff_Trial_exam = np.mean(Sem2_Trial_exam) - np.mean(Sem1_TrialExam)\n",
    "obs_diff_Last_lecture = np.mean(Sem2_LastLecture) - np.mean(Sem1_LastLecture)\n",
    "\n",
    "# Combining the data\n",
    "Sem1 = np.concatenate([Sem1_Full, Sem1_TrialExam, Sem1_LastLecture])\n",
    "Sem2 = np.concatenate([Sem2_Full, Sem2_Trial_exam, Sem2_LastLecture])\n",
    "\n",
    "# Computing the difference in means for 50 permutations\n",
    "perm_diffs_Full = np.zeros(50)\n",
    "perm_diffs_Trial_exam = np.zeros(50)\n",
    "perm_diffs_Last_lecture = np.zeros(50)\n",
    "\n",
    "for i in range(50):\n",
    "    np.random.shuffle(Sem1)\n",
    "    np.random.shuffle(Sem2)\n",
    "    \n",
    "    perm_diffs_Full[i] = np.mean(Sem2[:4]) - np.mean(Sem1[:4])\n",
    "    perm_diffs_Trial_exam[i] = np.mean(Sem2[4:8]) - np.mean(Sem1[4:8])\n",
    "    perm_diffs_Last_lecture[i] = np.mean(Sem2[8:]) - np.mean(Sem1[8:])\n",
    "\n",
    "# Computing the p-value\n",
    "p_value_Full = np.mean(perm_diffs_Full >= obs_diff_Full)\n",
    "p_value_Trial_exam = np.mean(perm_diffs_Trial_exam >= obs_diff_Trial_exam)\n",
    "p_value_Last_lecture = np.mean(perm_diffs_Last_lecture >= obs_diff_Last_lecture)\n",
    "\n",
    "print('Permutation test for Full courses:')\n",
    "print('Observed difference in means:', obs_diff_Full)\n",
    "print('p-value:', p_value_Full)\n",
    "\n",
    "print('\\nPermutation test for Trial exam courses:')\n",
    "print('Observed difference in means:', obs_diff_Trial_exam)\n",
    "print('p-value:', p_value_Trial_exam)\n",
    "\n",
    "print('\\nPermutation test for Last lecture courses:')\n",
    "print('Observed difference in means:', obs_diff_Last_lecture)\n",
    "print('p-value:', p_value_Last_lecture)"
   ]
  },
  {
   "cell_type": "markdown",
   "id": "b2a74993",
   "metadata": {},
   "source": [
    "### Comparison to Benchmark Model"
   ]
  },
  {
   "cell_type": "markdown",
   "id": "264c3972",
   "metadata": {},
   "source": [
    "Pairwise comparison of the benchmark model to the Logistic Regression model trained on the full feature set"
   ]
  },
  {
   "cell_type": "code",
   "execution_count": 11,
   "id": "4b72a05d",
   "metadata": {},
   "outputs": [
    {
     "name": "stdout",
     "output_type": "stream",
     "text": [
      "Wilcoxon rangtest statistic: 10.0\n",
      "P-value: 0.1640625\n",
      "No significant difference between Benchmark Model and LR Model with full feature set.\n"
     ]
    }
   ],
   "source": [
    "from scipy.stats import wilcoxon\n",
    "\n",
    "# Data\n",
    "benchmark = [0.5460,0.6073,0.2136,0.7090,0.8012,0.5575,0.7308,0.5446,0.8543]\n",
    "LogisticFullModel = [ 0.5614,0.6065,0.5556,0.6208,0.5963,0.4929,0.3462,0.4812,0.7595]\n",
    "\n",
    "# Wilcoxon Test\n",
    "statistic, p = wilcoxon(benchmark, LogisticFullModel)\n",
    "print(\"Wilcoxon rangtest statistic:\", statistic)\n",
    "print(\"P-value:\", p)\n",
    "if p < 0.05:\n",
    "    print('Significant difference between Benchmark Model and LR Model with full feature set.')\n",
    "else:\n",
    "    print('No significant difference between Benchmark Model and LR Model with full feature set.')"
   ]
  },
  {
   "cell_type": "markdown",
   "id": "7b7941a1",
   "metadata": {},
   "source": [
    "Pairwise comparison of the benchmark model to the Logistic Regression model trained on the feature selection by Stepwise Regression with inclusion threshold of 0.30 and exclusion threshold of 0.40"
   ]
  },
  {
   "cell_type": "code",
   "execution_count": 12,
   "id": "f555dd8b",
   "metadata": {},
   "outputs": [
    {
     "name": "stdout",
     "output_type": "stream",
     "text": [
      "Wilcoxon rangtest statistic: 10.0\n",
      "P-value: 0.1640625\n",
      "No significant difference between Benchmark Model and LR Model with medium-sized feature set.\n"
     ]
    }
   ],
   "source": [
    "from scipy.stats import wilcoxon\n",
    "\n",
    "# Data\n",
    "benchmark = [0.5460,0.6073,0.2136,0.7090,0.8012,0.5575,0.7308,0.5446,0.8543]\n",
    "Logistic3040 = [ 0.5733,0.5928,0.5105,0.6208,0.6147,0.2158,0.6298,0.4318,0.7599]\n",
    "\n",
    "# Wilcoxon Test\n",
    "statistic, p = wilcoxon(benchmark, Logistic3040)\n",
    "print(\"Wilcoxon rangtest statistic:\", statistic)\n",
    "print(\"P-value:\", p)\n",
    "if p < 0.05:\n",
    "    print('Significant difference between Benchmark Model and LR Model with medium-sized feature set.')\n",
    "else:\n",
    "    print('No significant difference between Benchmark Model and LR Model with medium-sized feature set.')"
   ]
  },
  {
   "cell_type": "markdown",
   "id": "c765757b",
   "metadata": {},
   "source": [
    "Pairwise comparison of the benchmark model to the Logistic Regression model trained on the feature selection by Stepwise Regression with inclusion threshold of 0.05 and exclusion threshold of 0.10"
   ]
  },
  {
   "cell_type": "code",
   "execution_count": 13,
   "id": "daa30535",
   "metadata": {},
   "outputs": [
    {
     "name": "stdout",
     "output_type": "stream",
     "text": [
      "Wilcoxon rangtest statistic: 11.0\n",
      "P-value: 0.203125\n",
      "No significant difference between Benchmark Model and LR Model with smallest feature set.\n"
     ]
    }
   ],
   "source": [
    "from scipy.stats import wilcoxon\n",
    "\n",
    "# Data\n",
    "benchmark = [0.5460,0.6073,0.2136,0.7090,0.8012,0.5575,0.7308,0.5446,0.8543]\n",
    "Logistic0510 = [0.5366, 0.6544, 0.5513, 0.4184, 0.7521, 0.1817, 0.6298, 0.3333, 0.8127]\n",
    "\n",
    "# Wilcoxon test\n",
    "statistic, p = wilcoxon(benchmark, Logistic0510)\n",
    "print(\"Wilcoxon rangtest statistic:\", statistic)\n",
    "print(\"P-value:\", p)\n",
    "if p < 0.05:\n",
    "    print('Significant difference between Benchmark Model and LR Model with smallest feature set.')\n",
    "else:\n",
    "    print('No significant difference between Benchmark Model and LR Model with smallest feature set.')"
   ]
  },
  {
   "cell_type": "markdown",
   "id": "6ff32289",
   "metadata": {},
   "source": [
    "# Research Question II"
   ]
  },
  {
   "cell_type": "markdown",
   "id": "e3cc8355",
   "metadata": {},
   "source": [
    "Pairwise comparison of the universal model excluding the features related to the instructional design of courses, and the extended model including these aspects in the analysis"
   ]
  },
  {
   "cell_type": "code",
   "execution_count": 14,
   "id": "54a0c89f",
   "metadata": {},
   "outputs": [
    {
     "name": "stdout",
     "output_type": "stream",
     "text": [
      "Wilcoxon rangtest statistic: 19.0\n",
      "P-value: 0.734375\n",
      "No significant difference between models including instructional design and excluding this.\n"
     ]
    }
   ],
   "source": [
    "from scipy.stats import wilcoxon\n",
    "\n",
    "# Data\n",
    "model_without_id = [0.4553,0.5750,0.4578,0.6335,0.7167,0.2377,0.3549,0.5822,0.7521]\n",
    "model_with_id = [ 0.5614,0.6065,0.5556,0.6208,0.5963,0.4929,0.3462,0.4812,0.7595]\n",
    "# Wilcoxon Test\n",
    "statistic, p = wilcoxon(model_without_id,model_with_id)\n",
    "print(\"Wilcoxon rangtest statistic:\", statistic)\n",
    "print(\"P-value:\", p)\n",
    "if p < 0.05:\n",
    "    print('Significant difference between models including instructional design and excluding this.')\n",
    "else:\n",
    "    print('No significant difference between models including instructional design and excluding this.')"
   ]
  }
 ],
 "metadata": {
  "kernelspec": {
   "display_name": "Python 3 (ipykernel)",
   "language": "python",
   "name": "python3"
  },
  "language_info": {
   "codemirror_mode": {
    "name": "ipython",
    "version": 3
   },
   "file_extension": ".py",
   "mimetype": "text/x-python",
   "name": "python",
   "nbconvert_exporter": "python",
   "pygments_lexer": "ipython3",
   "version": "3.11.5"
  }
 },
 "nbformat": 4,
 "nbformat_minor": 5
}
